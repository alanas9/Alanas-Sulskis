{
 "cells": [
  {
   "cell_type": "markdown",
   "metadata": {},
   "source": [
    "# Recurrent Neural Networks\n",
    "\n",
    "### Practical Session\n",
    "\n",
    "<br/> Prof. Dr. Georgios K. Ouzounis\n",
    "<br/> email: georgios.ouzounis@go.kauko.lt"
   ]
  },
  {
   "cell_type": "markdown",
   "metadata": {},
   "source": [
    "## Contents\n",
    "\n",
    "1. Data loading and pre-processing\n",
    "2. Building the RNN\n",
    "3. Train and deploy the RNN\n",
    "4. Improving the RNN"
   ]
  },
  {
   "cell_type": "markdown",
   "metadata": {},
   "source": [
    "## Challenge"
   ]
  },
  {
   "cell_type": "markdown",
   "metadata": {},
   "source": [
    "<img src=\"https://www.sapientrade.com/images/2017/02/14/AI-Machine-Learning-Trading-Benefits.jpg\" width=\"800\" align=\"left\"/>"
   ]
  },
  {
   "cell_type": "markdown",
   "metadata": {},
   "source": [
    "Given a 5-year history of the Google Stock prices predict the stock values for the period of the recent most month that are not included in the historical data."
   ]
  },
  {
   "cell_type": "markdown",
   "metadata": {},
   "source": [
    "## Data loading and pre-processing"
   ]
  },
  {
   "cell_type": "markdown",
   "metadata": {},
   "source": [
    "### Download the data-sets\n",
    "\n",
    "The data-sets are two comma-separated values files (CSV) and contain a data table of 1258 records for training and a table of 21 records for testing.\n",
    "\n",
    "They can be found at the [Kaggle.com website](https://www.kaggle.com/akram24/google-stock-price-train) or at various web locations after searching for the filenames: \n",
    "\n",
    "**Google_Stock_Price_Test.csv** and **Google_Stock_Price_Train.csv**\n",
    "\n",
    "Known alternative location: Github user [pdway53](https://github.com/pdway53/Predict_Google_Stock_Price_RNN) \n",
    "\n",
    "Open a terminal and use the wget command to get it of the selected location. Example:\n",
    "\n",
    "```shell\n",
    "wget https://raw.githubusercontent.com/pdway53/Predict_Google_Stock_Price_RNN/master/Google_Stock_Price_Test.csv\n",
    "\n",
    "wget https://raw.githubusercontent.com/pdway53/Predict_Google_Stock_Price_RNN/master/Google_Stock_Price_Train.csv \n",
    "```\n"
   ]
  },
  {
   "cell_type": "markdown",
   "metadata": {},
   "source": [
    "### Import libraries\n",
    "\n",
    "We need 3 main libraries:\n",
    "\n",
    "- [Numpy](http://www.numpy.org): it is the fundamental package for scientific computing with Python. It contains among other things a powerful N-dimensional array object that can be used as an efficient multi-dimensional container of generic data. Arbitrary data-types can be defined.\n",
    "- [matplotlib](https://matplotlib.org):  it is a Python 2D plotting library which produces publication quality figures in a variety of hardcopy formats and interactive environments across platforms.\n",
    "- [pandas](https://pandas.pydata.org): is a software library written for the Python programming language for data manipulation and analysis. In particular, it offers data structures and operations for manipulating numerical tables and time series."
   ]
  },
  {
   "cell_type": "code",
   "execution_count": 8,
   "metadata": {},
   "outputs": [],
   "source": [
    "# importing the libraries\n",
    "import numpy as np\n",
    "import matplotlib.pyplot as plt\n",
    "import pandas as pd"
   ]
  },
  {
   "cell_type": "markdown",
   "metadata": {},
   "source": [
    "### Import the dataset"
   ]
  },
  {
   "cell_type": "markdown",
   "metadata": {},
   "source": [
    "Dataset description: the open high, low and close values of the Google Stock from 2012 to 2016. [Relevant code here](https://github.com/pdway53/Predict_Google_Stock_Price_RNN)\n"
   ]
  },
  {
   "cell_type": "code",
   "execution_count": 9,
   "metadata": {},
   "outputs": [],
   "source": [
    "#importing the dataset\n",
    "\n",
    "# load the file contents \n",
    "dataset_train = pd.read_csv('training_data.csv')"
   ]
  },
  {
   "cell_type": "code",
   "execution_count": 10,
   "metadata": {},
   "outputs": [
    {
     "data": {
      "text/html": [
       "<div>\n",
       "<style scoped>\n",
       "    .dataframe tbody tr th:only-of-type {\n",
       "        vertical-align: middle;\n",
       "    }\n",
       "\n",
       "    .dataframe tbody tr th {\n",
       "        vertical-align: top;\n",
       "    }\n",
       "\n",
       "    .dataframe thead th {\n",
       "        text-align: right;\n",
       "    }\n",
       "</style>\n",
       "<table border=\"1\" class=\"dataframe\">\n",
       "  <thead>\n",
       "    <tr style=\"text-align: right;\">\n",
       "      <th></th>\n",
       "      <th>Date</th>\n",
       "      <th>Open</th>\n",
       "      <th>High</th>\n",
       "      <th>Low</th>\n",
       "      <th>Close</th>\n",
       "      <th>Adj Close</th>\n",
       "      <th>Volume</th>\n",
       "    </tr>\n",
       "  </thead>\n",
       "  <tbody>\n",
       "    <tr>\n",
       "      <th>0</th>\n",
       "      <td>7/1/2009</td>\n",
       "      <td>5.125000</td>\n",
       "      <td>5.166429</td>\n",
       "      <td>5.090000</td>\n",
       "      <td>5.101071</td>\n",
       "      <td>4.408037</td>\n",
       "      <td>414178800</td>\n",
       "    </tr>\n",
       "    <tr>\n",
       "      <th>1</th>\n",
       "      <td>7/2/2009</td>\n",
       "      <td>5.044643</td>\n",
       "      <td>5.101071</td>\n",
       "      <td>4.992500</td>\n",
       "      <td>5.000714</td>\n",
       "      <td>4.321311</td>\n",
       "      <td>370479200</td>\n",
       "    </tr>\n",
       "    <tr>\n",
       "      <th>2</th>\n",
       "      <td>7/6/2009</td>\n",
       "      <td>4.953571</td>\n",
       "      <td>4.963929</td>\n",
       "      <td>4.866071</td>\n",
       "      <td>4.950357</td>\n",
       "      <td>4.277796</td>\n",
       "      <td>498688400</td>\n",
       "    </tr>\n",
       "    <tr>\n",
       "      <th>3</th>\n",
       "      <td>7/7/2009</td>\n",
       "      <td>4.945714</td>\n",
       "      <td>4.988572</td>\n",
       "      <td>4.827857</td>\n",
       "      <td>4.835714</td>\n",
       "      <td>4.178730</td>\n",
       "      <td>461596800</td>\n",
       "    </tr>\n",
       "    <tr>\n",
       "      <th>4</th>\n",
       "      <td>7/8/2009</td>\n",
       "      <td>4.854286</td>\n",
       "      <td>4.930000</td>\n",
       "      <td>4.800714</td>\n",
       "      <td>4.900714</td>\n",
       "      <td>4.234900</td>\n",
       "      <td>575929200</td>\n",
       "    </tr>\n",
       "  </tbody>\n",
       "</table>\n",
       "</div>"
      ],
      "text/plain": [
       "       Date      Open      High       Low     Close  Adj Close     Volume\n",
       "0  7/1/2009  5.125000  5.166429  5.090000  5.101071   4.408037  414178800\n",
       "1  7/2/2009  5.044643  5.101071  4.992500  5.000714   4.321311  370479200\n",
       "2  7/6/2009  4.953571  4.963929  4.866071  4.950357   4.277796  498688400\n",
       "3  7/7/2009  4.945714  4.988572  4.827857  4.835714   4.178730  461596800\n",
       "4  7/8/2009  4.854286  4.930000  4.800714  4.900714   4.234900  575929200"
      ]
     },
     "execution_count": 10,
     "metadata": {},
     "output_type": "execute_result"
    }
   ],
   "source": [
    "dataset_train.head()"
   ]
  },
  {
   "cell_type": "code",
   "execution_count": 11,
   "metadata": {},
   "outputs": [],
   "source": [
    "# Create a subtable of relevant entries (open values)\n",
    "# The .values makes this vector a numpy array\n",
    "training_set = dataset_train.iloc[:, 1:2].values "
   ]
  },
  {
   "cell_type": "code",
   "execution_count": 12,
   "metadata": {},
   "outputs": [
    {
     "data": {
      "text/plain": [
       "array([[ 5.125   ],\n",
       "       [ 5.044643],\n",
       "       [ 4.953571],\n",
       "       ...,\n",
       "       [51.869999],\n",
       "       [52.115002],\n",
       "       [52.189999]])"
      ]
     },
     "execution_count": 12,
     "metadata": {},
     "output_type": "execute_result"
    }
   ],
   "source": [
    "# a subset to train a model.\n",
    "training_set"
   ]
  },
  {
   "cell_type": "markdown",
   "metadata": {},
   "source": [
    "Numpy arrays do not support the view() and head() methods. [More on accessing the numpy data](https://jakevdp.github.io/PythonDataScienceHandbook/02.02-the-basics-of-numpy-arrays.html)\n"
   ]
  },
  {
   "cell_type": "markdown",
   "metadata": {},
   "source": [
    "### Feature Scaling\n",
    "\n",
    "Next we need to rescale our data to the range from 0 to 1. \n",
    "\n",
    "Feature scaling is essential as discussed if the Features lecture and needs to be applied to both the training and test sets.\n",
    "\n",
    "It is computed using the ScikitLearn library [MinMaxScaler()](http://scikit-learn.org/stable/modules/generated/sklearn.preprocessing.MinMaxScaler.html#sklearn.preprocessing.MinMaxScaler) which transforms the selected feature by scaling it to a given range. If more than one, this estimator scales and translates each feature individually such that it is in the given range on the training set, i.e. between zero and one."
   ]
  },
  {
   "cell_type": "code",
   "execution_count": 13,
   "metadata": {},
   "outputs": [],
   "source": [
    "# Feature Scaling\n",
    "\n",
    "# import the MinMaxScaler\n",
    "from sklearn.preprocessing import MinMaxScaler"
   ]
  },
  {
   "cell_type": "code",
   "execution_count": 14,
   "metadata": {},
   "outputs": [],
   "source": [
    "# create a scaler instance to rescale all data to the range of 0.0 to 1.0 \n",
    "sc = MinMaxScaler(feature_range = (0, 1))"
   ]
  },
  {
   "cell_type": "code",
   "execution_count": 15,
   "metadata": {},
   "outputs": [],
   "source": [
    "# create the actual training set of scaled values\n",
    "training_set_scaled = sc.fit_transform(training_set)"
   ]
  },
  {
   "cell_type": "code",
   "execution_count": 16,
   "metadata": {},
   "outputs": [
    {
     "data": {
      "text/plain": [
       "array([[0.00512321],\n",
       "       [0.00360247],\n",
       "       [0.00187895],\n",
       "       ...,\n",
       "       [0.88976301],\n",
       "       [0.89439965],\n",
       "       [0.89581895]])"
      ]
     },
     "execution_count": 16,
     "metadata": {},
     "output_type": "execute_result"
    }
   ],
   "source": [
    "training_set_scaled"
   ]
  },
  {
   "cell_type": "markdown",
   "metadata": {},
   "source": [
    "### Splitting the training set to dependent and independent variables"
   ]
  },
  {
   "cell_type": "markdown",
   "metadata": {},
   "source": [
    "<img src=\"https://drive.google.com/uc?id=1bckuLGZCeLUzNA-xJCGOODzC-4n2U-If\"/>"
   ]
  },
  {
   "cell_type": "code",
   "execution_count": 17,
   "metadata": {},
   "outputs": [],
   "source": [
    "# Creating a data structure with 90 timesteps and 1 output\n",
    "\n",
    "# the 90 stock prices in the last 3 months before today\n",
    "X_train = [] "
   ]
  },
  {
   "cell_type": "code",
   "execution_count": 18,
   "metadata": {},
   "outputs": [
    {
     "data": {
      "text/plain": [
       "(2537, 1)"
      ]
     },
     "execution_count": 18,
     "metadata": {},
     "output_type": "execute_result"
    }
   ],
   "source": [
    "training_set_scaled.shape"
   ]
  },
  {
   "cell_type": "code",
   "execution_count": 19,
   "metadata": {},
   "outputs": [],
   "source": [
    "# the stock price today\n",
    "y_train = [] "
   ]
  },
  {
   "cell_type": "code",
   "execution_count": 20,
   "metadata": {},
   "outputs": [],
   "source": [
    "# we start from day 90 because that is the first instance allowing us to \n",
    "# go back 90 days\n",
    "for i in range(90, 1258): \n",
    "    # 0 is the column ID, the only column in this case.    \n",
    "    # put the last 60 days values in one row of X_train\n",
    "    X_train.append(training_set_scaled[i-90:i, 0]) \n",
    "    y_train.append(training_set_scaled[i, 0])\n"
   ]
  },
  {
   "cell_type": "code",
   "execution_count": 21,
   "metadata": {},
   "outputs": [],
   "source": [
    "X_train, y_train = np.array(X_train), np.array(y_train)"
   ]
  },
  {
   "cell_type": "code",
   "execution_count": 22,
   "metadata": {},
   "outputs": [
    {
     "data": {
      "text/plain": [
       "array([[0.00512321, 0.00360247, 0.00187895, ..., 0.03509875, 0.0370453 ,\n",
       "        0.03817401],\n",
       "       [0.00360247, 0.00187895, 0.00173026, ..., 0.0370453 , 0.03817401,\n",
       "        0.03824837],\n",
       "       [0.00187895, 0.00173026, 0.        , ..., 0.03817401, 0.03824837,\n",
       "        0.04124254],\n",
       "       ...,\n",
       "       [0.27716722, 0.27632236, 0.26837395, ..., 0.34018681, 0.33749003,\n",
       "        0.33493518],\n",
       "       [0.27632236, 0.26837395, 0.26823877, ..., 0.33749003, 0.33493518,\n",
       "        0.33569219],\n",
       "       [0.26837395, 0.26823877, 0.26172324, ..., 0.33493518, 0.33569219,\n",
       "        0.33782121]])"
      ]
     },
     "execution_count": 22,
     "metadata": {},
     "output_type": "execute_result"
    }
   ],
   "source": [
    "X_train"
   ]
  },
  {
   "cell_type": "markdown",
   "metadata": {},
   "source": [
    "### Reshaping the Matrix\n",
    "\n",
    "We need to add a new matrix dimension to accommodate the indicator (predictor). \n",
    "\n",
    "NumPy matrices are tensors (3D) and essentially we need to specify that our matrix consists of **60 days** (dimension x) times **total days in data set** (dimension y) times **1 value per matrix cell (scalar)** (dimension z)"
   ]
  },
  {
   "cell_type": "markdown",
   "metadata": {},
   "source": [
    "If we were to add the stock value of somebody else together with the the past 60 days of Google, we need to change the length of the 3 dimension to  2.  RNN training tables are 3D!!! Read: [Reshaping NumPy Array | Numpy Array Reshape Examples](https://backtobazics.com/python/python-reshaping-numpy-array-examples/)"
   ]
  },
  {
   "cell_type": "code",
   "execution_count": 23,
   "metadata": {},
   "outputs": [],
   "source": [
    "# Reshaping the data matrix, we retain the 2 original dimensions and add a third of depth=1\n",
    "X_train = np.reshape(X_train, (X_train.shape[0], X_train.shape[1], 1))"
   ]
  },
  {
   "cell_type": "markdown",
   "metadata": {},
   "source": [
    "## Building the RNN"
   ]
  },
  {
   "cell_type": "markdown",
   "metadata": {},
   "source": [
    "### RNN initialization\n",
    "\n",
    "- Import the sequential model from the Keras API;\n",
    "- Import the Dense layer template from the Keras API;\n",
    "- Import the LSTM model from the Keras API\n",
    "- Create an instance of the sequential model called regressor because we want to predict a continuous value"
   ]
  },
  {
   "cell_type": "code",
   "execution_count": 24,
   "metadata": {},
   "outputs": [],
   "source": [
    "# Importing the Keras libraries and packages\n",
    "from keras.models import Sequential\n",
    "from keras.layers import Dense\n",
    "from keras.layers import LSTM\n",
    "from keras.layers import Dropout"
   ]
  },
  {
   "cell_type": "code",
   "execution_count": 25,
   "metadata": {},
   "outputs": [],
   "source": [
    "# Initialising the RNN as a sequence of layers\n",
    "regressor = Sequential()"
   ]
  },
  {
   "cell_type": "markdown",
   "metadata": {},
   "source": [
    "### Add First Layer\n",
    "\n",
    "We first add an object of the LSTM class! \n",
    "\n",
    "- The first argument is the number of units or LSTM memory cells. Include many neurons to address the high dimensionality of the problem; say 50 neurons! \n",
    "- Second arg: return sequences = true; stacked LSTM !\n",
    "- Third arg: input 3D shape: observations vs time steps vs number of indicators"
   ]
  },
  {
   "cell_type": "code",
   "execution_count": 26,
   "metadata": {},
   "outputs": [],
   "source": [
    "# Adding the input layer and the LSTM layer\n",
    "regressor.add(LSTM(units = 50, return_sequences = True, input_shape =  (X_train.shape[1], 1)))"
   ]
  },
  {
   "cell_type": "code",
   "execution_count": 27,
   "metadata": {},
   "outputs": [],
   "source": [
    "# the argument is the dropout rate to ignore in the layers (20%), \n",
    "# i.e. 50 units * 20% = 10 units will be dropped each time\n",
    "regressor.add(Dropout(0.2))\n"
   ]
  },
  {
   "cell_type": "markdown",
   "metadata": {},
   "source": [
    "### Add More Layers\n",
    "\n",
    "We can add more LSTM layers but along with Dropout regularization to make sure we avoid overfitting! \n",
    "\n",
    "We don’t need to add the shape of the layer again because it is recognized automatically from the number of input units.\n",
    "\n",
    "The last layer does not return a sequence but connected directly to a fully connected output layer.\n"
   ]
  },
  {
   "cell_type": "code",
   "execution_count": 28,
   "metadata": {},
   "outputs": [],
   "source": [
    "# Adding a second LSTM layer and some Dropout regularisation\n",
    "regressor.add(LSTM(units = 50, return_sequences = True))\n",
    "regressor.add(Dropout(0.2))"
   ]
  },
  {
   "cell_type": "code",
   "execution_count": 29,
   "metadata": {},
   "outputs": [],
   "source": [
    "# Adding a third LSTM layer and some Dropout regularisation\n",
    "regressor.add(LSTM(units = 50, return_sequences = True))\n",
    "regressor.add(Dropout(0.2))"
   ]
  },
  {
   "cell_type": "code",
   "execution_count": 30,
   "metadata": {},
   "outputs": [],
   "source": [
    "# Adding a fourth LSTM layer and some Dropout regularisation\n",
    "# we removed the return_sequences because we no longer return a \n",
    "# sequence but a value instead\n",
    "regressor.add(LSTM(units = 50))\n",
    "regressor.add(Dropout(0.2))"
   ]
  },
  {
   "cell_type": "markdown",
   "metadata": {},
   "source": [
    "### Add Output Layer & Compile\n",
    "\n",
    "The output has 1 dimension , i.e. one value to be predicted thus or output fully connected layer has dimensionality = 1.\n",
    "\n",
    "- **Optimizer**: rmsprop is recommended in the Keras documentation. The Adam optimizer is also a powerful choice.\n",
    "- **Loss function**: regression problems take the mean square error as most common"
   ]
  },
  {
   "cell_type": "code",
   "execution_count": 31,
   "metadata": {},
   "outputs": [],
   "source": [
    "# Adding the output layer\n",
    "regressor.add(Dense(units = 1))"
   ]
  },
  {
   "cell_type": "code",
   "execution_count": 32,
   "metadata": {},
   "outputs": [],
   "source": [
    "# Compiling the RNN\n",
    "regressor.compile(optimizer = 'adam', loss = 'mean_squared_error')"
   ]
  },
  {
   "cell_type": "markdown",
   "metadata": {},
   "source": [
    "## Train and deploy the RNN"
   ]
  },
  {
   "cell_type": "markdown",
   "metadata": {},
   "source": [
    "### Fit the RNN to the Training set\n",
    "\n",
    "We now want to train our RNN using the data in our **Training Set X** and **predictors in y** (ground truth in this case). Parameters that can be specified are the:\n",
    "\n",
    "- **Batch size**:  update the cell weights not on every stock price on every batch_size values; \n",
    "- **Number of epochs**: how many iterations to be used, i.e. number of forward and backward propagations for the update of the weights\n"
   ]
  },
  {
   "cell_type": "code",
   "execution_count": 59,
   "metadata": {},
   "outputs": [
    {
     "name": "stdout",
     "output_type": "stream",
     "text": [
      "Epoch 1/100\n",
      "37/37 [==============================] - 8s 212ms/step - loss: 1.5655e-04\n",
      "Epoch 2/100\n",
      "37/37 [==============================] - 7s 197ms/step - loss: 1.5037e-04\n",
      "Epoch 3/100\n",
      "37/37 [==============================] - 8s 221ms/step - loss: 1.5366e-04\n",
      "Epoch 4/100\n",
      "37/37 [==============================] - 7s 186ms/step - loss: 1.5306e-04\n",
      "Epoch 5/100\n",
      "37/37 [==============================] - 8s 211ms/step - loss: 1.5848e-04\n",
      "Epoch 6/100\n",
      "37/37 [==============================] - 8s 211ms/step - loss: 1.5206e-04\n",
      "Epoch 7/100\n",
      "37/37 [==============================] - 7s 191ms/step - loss: 1.4984e-04\n",
      "Epoch 8/100\n",
      "37/37 [==============================] - 7s 181ms/step - loss: 1.3128e-04\n",
      "Epoch 9/100\n",
      "37/37 [==============================] - 7s 181ms/step - loss: 1.4657e-04\n",
      "Epoch 10/100\n",
      "37/37 [==============================] - 7s 188ms/step - loss: 1.5566e-04\n",
      "Epoch 11/100\n",
      "37/37 [==============================] - 9s 237ms/step - loss: 1.7151e-04\n",
      "Epoch 12/100\n",
      "37/37 [==============================] - 8s 224ms/step - loss: 1.7244e-04\n",
      "Epoch 13/100\n",
      "37/37 [==============================] - 8s 210ms/step - loss: 1.6642e-04\n",
      "Epoch 14/100\n",
      "37/37 [==============================] - 8s 207ms/step - loss: 1.4360e-04\n",
      "Epoch 15/100\n",
      "37/37 [==============================] - 8s 209ms/step - loss: 1.5016e-04\n",
      "Epoch 16/100\n",
      "37/37 [==============================] - 9s 255ms/step - loss: 1.6231e-04\n",
      "Epoch 17/100\n",
      "37/37 [==============================] - 7s 192ms/step - loss: 1.4383e-04\n",
      "Epoch 18/100\n",
      "37/37 [==============================] - 8s 217ms/step - loss: 1.5886e-04\n",
      "Epoch 19/100\n",
      "37/37 [==============================] - 8s 229ms/step - loss: 1.8173e-04\n",
      "Epoch 20/100\n",
      "37/37 [==============================] - 8s 210ms/step - loss: 1.5364e-04\n",
      "Epoch 21/100\n",
      "37/37 [==============================] - 8s 223ms/step - loss: 1.5308e-04\n",
      "Epoch 22/100\n",
      "37/37 [==============================] - 8s 215ms/step - loss: 1.6288e-04\n",
      "Epoch 23/100\n",
      "37/37 [==============================] - 7s 197ms/step - loss: 1.3579e-04\n",
      "Epoch 24/100\n",
      "37/37 [==============================] - 8s 211ms/step - loss: 1.7289e-04\n",
      "Epoch 25/100\n",
      "37/37 [==============================] - 9s 235ms/step - loss: 1.5814e-04\n",
      "Epoch 26/100\n",
      "37/37 [==============================] - 8s 220ms/step - loss: 1.4520e-04\n",
      "Epoch 27/100\n",
      "37/37 [==============================] - 8s 212ms/step - loss: 1.4439e-04\n",
      "Epoch 28/100\n",
      "37/37 [==============================] - 8s 220ms/step - loss: 1.2741e-04\n",
      "Epoch 29/100\n",
      "37/37 [==============================] - 6s 175ms/step - loss: 1.4347e-04\n",
      "Epoch 30/100\n",
      "37/37 [==============================] - 8s 210ms/step - loss: 1.3137e-04\n",
      "Epoch 31/100\n",
      "37/37 [==============================] - 10s 276ms/step - loss: 1.4543e-04\n",
      "Epoch 32/100\n",
      "37/37 [==============================] - 8s 204ms/step - loss: 1.8117e-04\n",
      "Epoch 33/100\n",
      "37/37 [==============================] - 8s 229ms/step - loss: 1.4743e-04\n",
      "Epoch 34/100\n",
      "37/37 [==============================] - 10s 263ms/step - loss: 1.4128e-04\n",
      "Epoch 35/100\n",
      "37/37 [==============================] - 7s 194ms/step - loss: 1.8184e-04\n",
      "Epoch 36/100\n",
      "37/37 [==============================] - 7s 189ms/step - loss: 1.4859e-04\n",
      "Epoch 37/100\n",
      "37/37 [==============================] - 8s 204ms/step - loss: 1.3693e-04\n",
      "Epoch 38/100\n",
      "37/37 [==============================] - 8s 228ms/step - loss: 1.4321e-04\n",
      "Epoch 39/100\n",
      "37/37 [==============================] - 7s 199ms/step - loss: 1.5081e-04\n",
      "Epoch 40/100\n",
      "37/37 [==============================] - 9s 252ms/step - loss: 1.3550e-04\n",
      "Epoch 41/100\n",
      "37/37 [==============================] - 7s 194ms/step - loss: 1.3276e-04\n",
      "Epoch 42/100\n",
      "37/37 [==============================] - 9s 254ms/step - loss: 1.6097e-04\n",
      "Epoch 43/100\n",
      "37/37 [==============================] - 8s 217ms/step - loss: 1.4532e-04\n",
      "Epoch 44/100\n",
      "37/37 [==============================] - 8s 205ms/step - loss: 1.3170e-04\n",
      "Epoch 45/100\n",
      "37/37 [==============================] - 7s 194ms/step - loss: 1.6366e-04\n",
      "Epoch 46/100\n",
      "37/37 [==============================] - 8s 227ms/step - loss: 1.2803e-04\n",
      "Epoch 47/100\n",
      "37/37 [==============================] - 8s 227ms/step - loss: 1.3171e-04\n",
      "Epoch 48/100\n",
      "37/37 [==============================] - 8s 216ms/step - loss: 1.2216e-04\n",
      "Epoch 49/100\n",
      "37/37 [==============================] - 8s 222ms/step - loss: 1.5817e-04\n",
      "Epoch 50/100\n",
      "37/37 [==============================] - 8s 211ms/step - loss: 1.8308e-04\n",
      "Epoch 51/100\n",
      "37/37 [==============================] - 7s 194ms/step - loss: 1.4132e-04\n",
      "Epoch 52/100\n",
      "37/37 [==============================] - 7s 198ms/step - loss: 1.2706e-04\n",
      "Epoch 53/100\n",
      "37/37 [==============================] - 8s 205ms/step - loss: 1.3725e-04\n",
      "Epoch 54/100\n",
      "37/37 [==============================] - 9s 230ms/step - loss: 1.2663e-04\n",
      "Epoch 55/100\n",
      "37/37 [==============================] - 7s 198ms/step - loss: 1.2633e-04\n",
      "Epoch 56/100\n",
      "37/37 [==============================] - 8s 219ms/step - loss: 1.3744e-04\n",
      "Epoch 57/100\n",
      "37/37 [==============================] - 10s 282ms/step - loss: 1.3108e-04\n",
      "Epoch 58/100\n",
      "37/37 [==============================] - 8s 217ms/step - loss: 1.3895e-04\n",
      "Epoch 59/100\n",
      "37/37 [==============================] - 9s 246ms/step - loss: 1.3417e-04\n",
      "Epoch 60/100\n",
      "37/37 [==============================] - 8s 204ms/step - loss: 1.3864e-04\n",
      "Epoch 61/100\n",
      "37/37 [==============================] - 9s 235ms/step - loss: 1.3128e-04\n",
      "Epoch 62/100\n",
      "37/37 [==============================] - 8s 217ms/step - loss: 1.5078e-04\n",
      "Epoch 63/100\n",
      "37/37 [==============================] - 8s 212ms/step - loss: 1.2654e-04\n",
      "Epoch 64/100\n",
      "37/37 [==============================] - 9s 234ms/step - loss: 1.1565e-04\n",
      "Epoch 65/100\n",
      "37/37 [==============================] - 7s 200ms/step - loss: 1.3463e-04\n",
      "Epoch 66/100\n",
      "37/37 [==============================] - 8s 207ms/step - loss: 1.2246e-04\n",
      "Epoch 67/100\n",
      "37/37 [==============================] - 8s 207ms/step - loss: 1.2708e-04\n",
      "Epoch 68/100\n",
      "37/37 [==============================] - 8s 207ms/step - loss: 1.5748e-04\n",
      "Epoch 69/100\n",
      "37/37 [==============================] - 8s 228ms/step - loss: 1.5085e-04\n",
      "Epoch 70/100\n",
      "37/37 [==============================] - 8s 206ms/step - loss: 1.2421e-04\n",
      "Epoch 71/100\n",
      "37/37 [==============================] - 8s 217ms/step - loss: 1.2925e-04\n",
      "Epoch 72/100\n",
      "37/37 [==============================] - 8s 212ms/step - loss: 1.2585e-04\n",
      "Epoch 73/100\n",
      "37/37 [==============================] - 7s 191ms/step - loss: 1.3301e-04\n",
      "Epoch 74/100\n",
      "37/37 [==============================] - 8s 205ms/step - loss: 1.2820e-04\n",
      "Epoch 75/100\n",
      "37/37 [==============================] - 9s 230ms/step - loss: 1.3511e-04\n",
      "Epoch 76/100\n",
      "37/37 [==============================] - 8s 212ms/step - loss: 1.4643e-04\n",
      "Epoch 77/100\n",
      "37/37 [==============================] - 8s 218ms/step - loss: 1.3500e-04\n",
      "Epoch 78/100\n",
      "37/37 [==============================] - 7s 199ms/step - loss: 1.2337e-04\n",
      "Epoch 79/100\n",
      "37/37 [==============================] - 7s 188ms/step - loss: 1.1574e-04\n",
      "Epoch 80/100\n",
      "37/37 [==============================] - 6s 175ms/step - loss: 1.1836e-04\n",
      "Epoch 81/100\n",
      "37/37 [==============================] - 8s 214ms/step - loss: 1.2533e-04\n",
      "Epoch 82/100\n",
      "37/37 [==============================] - 7s 191ms/step - loss: 1.3791e-04\n",
      "Epoch 83/100\n",
      "37/37 [==============================] - 8s 214ms/step - loss: 1.1501e-04\n",
      "Epoch 84/100\n",
      "37/37 [==============================] - 8s 224ms/step - loss: 1.3289e-04\n",
      "Epoch 85/100\n",
      "37/37 [==============================] - 10s 278ms/step - loss: 1.3646e-04\n",
      "Epoch 86/100\n",
      "37/37 [==============================] - 8s 227ms/step - loss: 1.5108e-04\n",
      "Epoch 87/100\n",
      "37/37 [==============================] - 9s 240ms/step - loss: 1.6019e-04\n",
      "Epoch 88/100\n",
      "37/37 [==============================] - 7s 198ms/step - loss: 1.2091e-04\n",
      "Epoch 89/100\n",
      "37/37 [==============================] - 8s 222ms/step - loss: 1.3192e-04\n",
      "Epoch 90/100\n",
      "37/37 [==============================] - 8s 224ms/step - loss: 1.1798e-04\n",
      "Epoch 91/100\n",
      "37/37 [==============================] - 9s 230ms/step - loss: 1.3208e-04\n",
      "Epoch 92/100\n",
      "37/37 [==============================] - 8s 208ms/step - loss: 1.4399e-04\n",
      "Epoch 93/100\n",
      "37/37 [==============================] - 8s 229ms/step - loss: 1.2616e-04\n",
      "Epoch 94/100\n",
      "37/37 [==============================] - 8s 214ms/step - loss: 1.1749e-04\n",
      "Epoch 95/100\n",
      "37/37 [==============================] - 8s 206ms/step - loss: 1.2575e-04\n",
      "Epoch 96/100\n",
      "37/37 [==============================] - 8s 210ms/step - loss: 1.3935e-04\n",
      "Epoch 97/100\n",
      "37/37 [==============================] - 8s 223ms/step - loss: 1.5881e-04\n",
      "Epoch 98/100\n",
      "37/37 [==============================] - 9s 244ms/step - loss: 1.2329e-04\n",
      "Epoch 99/100\n",
      "37/37 [==============================] - 8s 218ms/step - loss: 1.2709e-04\n",
      "Epoch 100/100\n",
      "37/37 [==============================] - 8s 230ms/step - loss: 1.4289e-04\n"
     ]
    },
    {
     "data": {
      "text/plain": [
       "<tensorflow.python.keras.callbacks.History at 0x7f9e00553a30>"
      ]
     },
     "execution_count": 59,
     "metadata": {},
     "output_type": "execute_result"
    }
   ],
   "source": [
    "# Fitting the RNN to the Training set\n",
    "regressor.fit(X_train, y_train, epochs = 100, batch_size = 32)"
   ]
  },
  {
   "cell_type": "markdown",
   "metadata": {},
   "source": [
    "### Computing Predictions\n",
    "\n",
    "Create a data-frame by importing the Google Stock Price Test set for January 2017 using pandas and make it a numpy array.\n",
    "\n",
    "There are 20 financial days in one month, weekends are excluded!\n"
   ]
  },
  {
   "cell_type": "code",
   "execution_count": 36,
   "metadata": {},
   "outputs": [
    {
     "data": {
      "text/html": [
       "<div>\n",
       "<style scoped>\n",
       "    .dataframe tbody tr th:only-of-type {\n",
       "        vertical-align: middle;\n",
       "    }\n",
       "\n",
       "    .dataframe tbody tr th {\n",
       "        vertical-align: top;\n",
       "    }\n",
       "\n",
       "    .dataframe thead th {\n",
       "        text-align: right;\n",
       "    }\n",
       "</style>\n",
       "<table border=\"1\" class=\"dataframe\">\n",
       "  <thead>\n",
       "    <tr style=\"text-align: right;\">\n",
       "      <th></th>\n",
       "      <th>Date</th>\n",
       "      <th>Open</th>\n",
       "      <th>High</th>\n",
       "      <th>Low</th>\n",
       "      <th>Close</th>\n",
       "      <th>Adj Close</th>\n",
       "      <th>Volume</th>\n",
       "    </tr>\n",
       "  </thead>\n",
       "  <tbody>\n",
       "    <tr>\n",
       "      <th>0</th>\n",
       "      <td>8/1/2019</td>\n",
       "      <td>53.474998</td>\n",
       "      <td>54.507500</td>\n",
       "      <td>51.685001</td>\n",
       "      <td>52.107498</td>\n",
       "      <td>51.400280</td>\n",
       "      <td>216071600</td>\n",
       "    </tr>\n",
       "    <tr>\n",
       "      <th>1</th>\n",
       "      <td>8/2/2019</td>\n",
       "      <td>51.382500</td>\n",
       "      <td>51.607498</td>\n",
       "      <td>50.407501</td>\n",
       "      <td>51.005001</td>\n",
       "      <td>50.312748</td>\n",
       "      <td>163448400</td>\n",
       "    </tr>\n",
       "    <tr>\n",
       "      <th>2</th>\n",
       "      <td>8/5/2019</td>\n",
       "      <td>49.497501</td>\n",
       "      <td>49.662498</td>\n",
       "      <td>48.145000</td>\n",
       "      <td>48.334999</td>\n",
       "      <td>47.678982</td>\n",
       "      <td>209572000</td>\n",
       "    </tr>\n",
       "    <tr>\n",
       "      <th>3</th>\n",
       "      <td>8/6/2019</td>\n",
       "      <td>49.077499</td>\n",
       "      <td>49.517502</td>\n",
       "      <td>48.509998</td>\n",
       "      <td>49.250000</td>\n",
       "      <td>48.581562</td>\n",
       "      <td>143299200</td>\n",
       "    </tr>\n",
       "    <tr>\n",
       "      <th>4</th>\n",
       "      <td>8/7/2019</td>\n",
       "      <td>48.852501</td>\n",
       "      <td>49.889999</td>\n",
       "      <td>48.455002</td>\n",
       "      <td>49.759998</td>\n",
       "      <td>49.084641</td>\n",
       "      <td>133457600</td>\n",
       "    </tr>\n",
       "    <tr>\n",
       "      <th>5</th>\n",
       "      <td>8/8/2019</td>\n",
       "      <td>50.049999</td>\n",
       "      <td>50.882500</td>\n",
       "      <td>49.847500</td>\n",
       "      <td>50.857498</td>\n",
       "      <td>50.167248</td>\n",
       "      <td>108038000</td>\n",
       "    </tr>\n",
       "    <tr>\n",
       "      <th>6</th>\n",
       "      <td>8/9/2019</td>\n",
       "      <td>50.325001</td>\n",
       "      <td>50.689999</td>\n",
       "      <td>49.822498</td>\n",
       "      <td>50.247501</td>\n",
       "      <td>49.753849</td>\n",
       "      <td>98478800</td>\n",
       "    </tr>\n",
       "    <tr>\n",
       "      <th>7</th>\n",
       "      <td>8/12/2019</td>\n",
       "      <td>49.904999</td>\n",
       "      <td>50.512501</td>\n",
       "      <td>49.787498</td>\n",
       "      <td>50.119999</td>\n",
       "      <td>49.627602</td>\n",
       "      <td>89927600</td>\n",
       "    </tr>\n",
       "    <tr>\n",
       "      <th>8</th>\n",
       "      <td>8/13/2019</td>\n",
       "      <td>50.255001</td>\n",
       "      <td>53.035000</td>\n",
       "      <td>50.119999</td>\n",
       "      <td>52.242500</td>\n",
       "      <td>51.729252</td>\n",
       "      <td>188874000</td>\n",
       "    </tr>\n",
       "    <tr>\n",
       "      <th>9</th>\n",
       "      <td>8/14/2019</td>\n",
       "      <td>50.790001</td>\n",
       "      <td>51.610001</td>\n",
       "      <td>50.647499</td>\n",
       "      <td>50.687500</td>\n",
       "      <td>50.189526</td>\n",
       "      <td>146189600</td>\n",
       "    </tr>\n",
       "    <tr>\n",
       "      <th>10</th>\n",
       "      <td>8/15/2019</td>\n",
       "      <td>50.865002</td>\n",
       "      <td>51.285000</td>\n",
       "      <td>49.917500</td>\n",
       "      <td>50.435001</td>\n",
       "      <td>49.939507</td>\n",
       "      <td>108909600</td>\n",
       "    </tr>\n",
       "    <tr>\n",
       "      <th>11</th>\n",
       "      <td>8/16/2019</td>\n",
       "      <td>51.070000</td>\n",
       "      <td>51.790001</td>\n",
       "      <td>50.959999</td>\n",
       "      <td>51.625000</td>\n",
       "      <td>51.117813</td>\n",
       "      <td>110481600</td>\n",
       "    </tr>\n",
       "    <tr>\n",
       "      <th>12</th>\n",
       "      <td>8/19/2019</td>\n",
       "      <td>52.654999</td>\n",
       "      <td>53.182499</td>\n",
       "      <td>52.507500</td>\n",
       "      <td>52.587502</td>\n",
       "      <td>52.070862</td>\n",
       "      <td>97654400</td>\n",
       "    </tr>\n",
       "    <tr>\n",
       "      <th>13</th>\n",
       "      <td>8/20/2019</td>\n",
       "      <td>52.720001</td>\n",
       "      <td>53.337502</td>\n",
       "      <td>52.580002</td>\n",
       "      <td>52.590000</td>\n",
       "      <td>52.073338</td>\n",
       "      <td>107537200</td>\n",
       "    </tr>\n",
       "    <tr>\n",
       "      <th>14</th>\n",
       "      <td>8/21/2019</td>\n",
       "      <td>53.247501</td>\n",
       "      <td>53.412498</td>\n",
       "      <td>52.900002</td>\n",
       "      <td>53.160000</td>\n",
       "      <td>52.637737</td>\n",
       "      <td>86141600</td>\n",
       "    </tr>\n",
       "    <tr>\n",
       "      <th>15</th>\n",
       "      <td>8/22/2019</td>\n",
       "      <td>53.297501</td>\n",
       "      <td>53.610001</td>\n",
       "      <td>52.687500</td>\n",
       "      <td>53.115002</td>\n",
       "      <td>52.593182</td>\n",
       "      <td>89014800</td>\n",
       "    </tr>\n",
       "    <tr>\n",
       "      <th>16</th>\n",
       "      <td>8/23/2019</td>\n",
       "      <td>52.357498</td>\n",
       "      <td>53.012501</td>\n",
       "      <td>50.250000</td>\n",
       "      <td>50.660000</td>\n",
       "      <td>50.162300</td>\n",
       "      <td>187272000</td>\n",
       "    </tr>\n",
       "    <tr>\n",
       "      <th>17</th>\n",
       "      <td>8/26/2019</td>\n",
       "      <td>51.465000</td>\n",
       "      <td>51.797501</td>\n",
       "      <td>51.264999</td>\n",
       "      <td>51.622501</td>\n",
       "      <td>51.115337</td>\n",
       "      <td>104174400</td>\n",
       "    </tr>\n",
       "    <tr>\n",
       "      <th>18</th>\n",
       "      <td>8/27/2019</td>\n",
       "      <td>51.965000</td>\n",
       "      <td>52.137501</td>\n",
       "      <td>50.882500</td>\n",
       "      <td>51.040001</td>\n",
       "      <td>50.538563</td>\n",
       "      <td>103493200</td>\n",
       "    </tr>\n",
       "    <tr>\n",
       "      <th>19</th>\n",
       "      <td>8/28/2019</td>\n",
       "      <td>51.025002</td>\n",
       "      <td>51.430000</td>\n",
       "      <td>50.830002</td>\n",
       "      <td>51.382500</td>\n",
       "      <td>50.877701</td>\n",
       "      <td>63755200</td>\n",
       "    </tr>\n",
       "    <tr>\n",
       "      <th>20</th>\n",
       "      <td>8/29/2019</td>\n",
       "      <td>52.125000</td>\n",
       "      <td>52.330002</td>\n",
       "      <td>51.665001</td>\n",
       "      <td>52.252499</td>\n",
       "      <td>51.739151</td>\n",
       "      <td>83962000</td>\n",
       "    </tr>\n",
       "    <tr>\n",
       "      <th>21</th>\n",
       "      <td>8/30/2019</td>\n",
       "      <td>52.540001</td>\n",
       "      <td>52.612499</td>\n",
       "      <td>51.799999</td>\n",
       "      <td>52.185001</td>\n",
       "      <td>51.672314</td>\n",
       "      <td>84573600</td>\n",
       "    </tr>\n",
       "  </tbody>\n",
       "</table>\n",
       "</div>"
      ],
      "text/plain": [
       "         Date       Open       High        Low      Close  Adj Close  \\\n",
       "0    8/1/2019  53.474998  54.507500  51.685001  52.107498  51.400280   \n",
       "1    8/2/2019  51.382500  51.607498  50.407501  51.005001  50.312748   \n",
       "2    8/5/2019  49.497501  49.662498  48.145000  48.334999  47.678982   \n",
       "3    8/6/2019  49.077499  49.517502  48.509998  49.250000  48.581562   \n",
       "4    8/7/2019  48.852501  49.889999  48.455002  49.759998  49.084641   \n",
       "5    8/8/2019  50.049999  50.882500  49.847500  50.857498  50.167248   \n",
       "6    8/9/2019  50.325001  50.689999  49.822498  50.247501  49.753849   \n",
       "7   8/12/2019  49.904999  50.512501  49.787498  50.119999  49.627602   \n",
       "8   8/13/2019  50.255001  53.035000  50.119999  52.242500  51.729252   \n",
       "9   8/14/2019  50.790001  51.610001  50.647499  50.687500  50.189526   \n",
       "10  8/15/2019  50.865002  51.285000  49.917500  50.435001  49.939507   \n",
       "11  8/16/2019  51.070000  51.790001  50.959999  51.625000  51.117813   \n",
       "12  8/19/2019  52.654999  53.182499  52.507500  52.587502  52.070862   \n",
       "13  8/20/2019  52.720001  53.337502  52.580002  52.590000  52.073338   \n",
       "14  8/21/2019  53.247501  53.412498  52.900002  53.160000  52.637737   \n",
       "15  8/22/2019  53.297501  53.610001  52.687500  53.115002  52.593182   \n",
       "16  8/23/2019  52.357498  53.012501  50.250000  50.660000  50.162300   \n",
       "17  8/26/2019  51.465000  51.797501  51.264999  51.622501  51.115337   \n",
       "18  8/27/2019  51.965000  52.137501  50.882500  51.040001  50.538563   \n",
       "19  8/28/2019  51.025002  51.430000  50.830002  51.382500  50.877701   \n",
       "20  8/29/2019  52.125000  52.330002  51.665001  52.252499  51.739151   \n",
       "21  8/30/2019  52.540001  52.612499  51.799999  52.185001  51.672314   \n",
       "\n",
       "       Volume  \n",
       "0   216071600  \n",
       "1   163448400  \n",
       "2   209572000  \n",
       "3   143299200  \n",
       "4   133457600  \n",
       "5   108038000  \n",
       "6    98478800  \n",
       "7    89927600  \n",
       "8   188874000  \n",
       "9   146189600  \n",
       "10  108909600  \n",
       "11  110481600  \n",
       "12   97654400  \n",
       "13  107537200  \n",
       "14   86141600  \n",
       "15   89014800  \n",
       "16  187272000  \n",
       "17  104174400  \n",
       "18  103493200  \n",
       "19   63755200  \n",
       "20   83962000  \n",
       "21   84573600  "
      ]
     },
     "execution_count": 36,
     "metadata": {},
     "output_type": "execute_result"
    }
   ],
   "source": [
    "# Getting the real stock price for February 1st 2012 - \n",
    "# January 31st 2017\n",
    "\n",
    "dataset_test = pd.read_csv('test_data.csv')\n",
    "dataset_test"
   ]
  },
  {
   "cell_type": "code",
   "execution_count": 60,
   "metadata": {},
   "outputs": [
    {
     "data": {
      "text/plain": [
       "22"
      ]
     },
     "execution_count": 60,
     "metadata": {},
     "output_type": "execute_result"
    }
   ],
   "source": [
    "real_stock_price = dataset_test.iloc[:, 1:2].values\n",
    "real_stock_price.size"
   ]
  },
  {
   "cell_type": "code",
   "execution_count": 61,
   "metadata": {},
   "outputs": [
    {
     "data": {
      "text/plain": [
       "array([[53.474998],\n",
       "       [51.3825  ],\n",
       "       [49.497501],\n",
       "       [49.077499],\n",
       "       [48.852501],\n",
       "       [50.049999],\n",
       "       [50.325001],\n",
       "       [49.904999],\n",
       "       [50.255001],\n",
       "       [50.790001],\n",
       "       [50.865002],\n",
       "       [51.07    ],\n",
       "       [52.654999],\n",
       "       [52.720001],\n",
       "       [53.247501],\n",
       "       [53.297501],\n",
       "       [52.357498],\n",
       "       [51.465   ],\n",
       "       [51.965   ],\n",
       "       [51.025002],\n",
       "       [52.125   ],\n",
       "       [52.540001]])"
      ]
     },
     "execution_count": 61,
     "metadata": {},
     "output_type": "execute_result"
    }
   ],
   "source": [
    "real_stock_price"
   ]
  },
  {
   "cell_type": "markdown",
   "metadata": {},
   "source": [
    "To predict the stock price value for each day in January 2017, we need the values in the last 60 days.\n",
    "\n",
    "To obtain this **history** we need to combine both the training and test sets in one.\n",
    "\n",
    "If we were to use the training_set and test_set we would need to use the scaler  but that would change the actual test values.  Thus concatenate the original data frames!\n"
   ]
  },
  {
   "cell_type": "code",
   "execution_count": 62,
   "metadata": {},
   "outputs": [],
   "source": [
    "# Getting the predicted stock price of 2017\n",
    "\n",
    "# axis = 0 means concatenate the lines (i.e. vertical axis)\n",
    "dataset_total = pd.concat((dataset_train['Open'], dataset_test['Open']), axis = 0) "
   ]
  },
  {
   "cell_type": "code",
   "execution_count": 63,
   "metadata": {},
   "outputs": [
    {
     "data": {
      "text/plain": [
       "2559"
      ]
     },
     "execution_count": 63,
     "metadata": {},
     "output_type": "execute_result"
    }
   ],
   "source": [
    "#  This feature will simplify checks/tests to ensure data credibility.\n",
    "dataset_total.size\n"
   ]
  },
  {
   "cell_type": "code",
   "execution_count": 64,
   "metadata": {},
   "outputs": [],
   "source": [
    "# the difference in the length of the first two gives us \n",
    "# the first day in 2017, and we need to go back 90 days to get the necessary range\n",
    "inputs = dataset_total[len(dataset_total) - len(dataset_test) - 90:].values"
   ]
  },
  {
   "cell_type": "code",
   "execution_count": 65,
   "metadata": {},
   "outputs": [
    {
     "data": {
      "text/plain": [
       "112"
      ]
     },
     "execution_count": 65,
     "metadata": {},
     "output_type": "execute_result"
    }
   ],
   "source": [
    " # To specify the maximum number of characters.\n",
    "inputs.size"
   ]
  },
  {
   "cell_type": "code",
   "execution_count": 66,
   "metadata": {},
   "outputs": [],
   "source": [
    "# we did not use iloc from panda so lets reshape the numpy array for \n",
    "# compatibility: i.e. all the values from input lines to be stacked in one \n",
    "# column. The -1 means that the numpy has no knowledge of how the \n",
    "# values were stored in lines. The 1 means we want to them in one \n",
    "# column.\n",
    "\n",
    "inputs = inputs.reshape(-1,1) \n",
    "\n",
    "# apply the feature scaler\n",
    "inputs = sc.transform(inputs)"
   ]
  },
  {
   "cell_type": "markdown",
   "metadata": {},
   "source": [
    "1. For each price in Jan. 2017 we need the **immediate 60 values** before it. \n",
    "2. We have 21 prices in January;\n",
    "3. We need a numpy 3D array of 60 prices (columns) times 21 days (rows) times 1 dependent variable \n",
    "4. We don’t need y_test. That is what we are trying to compute!\n"
   ]
  },
  {
   "cell_type": "code",
   "execution_count": 67,
   "metadata": {},
   "outputs": [],
   "source": [
    "# Getting the predicted stock price of 2017\n",
    "X_test = []"
   ]
  },
  {
   "cell_type": "code",
   "execution_count": 68,
   "metadata": {},
   "outputs": [],
   "source": [
    "# the first 90 from inputs are from training set; start \n",
    "# from 90 and get the extra 20, i.e. up to 80\n",
    "for i in range(90, 111): \n",
    "    X_test.append(inputs[i-90:i, 0])\n"
   ]
  },
  {
   "cell_type": "code",
   "execution_count": 69,
   "metadata": {},
   "outputs": [],
   "source": [
    "X_test = np.array(X_test) # not 3D structure yet"
   ]
  },
  {
   "cell_type": "code",
   "execution_count": 70,
   "metadata": {},
   "outputs": [],
   "source": [
    "# create a 3D structure\n",
    "X_test = np.reshape(X_test, (X_test.shape[0], X_test.shape[1], 1))"
   ]
  },
  {
   "cell_type": "code",
   "execution_count": 71,
   "metadata": {},
   "outputs": [],
   "source": [
    "predicted_stock_price = regressor.predict(X_test)"
   ]
  },
  {
   "cell_type": "code",
   "execution_count": 72,
   "metadata": {},
   "outputs": [
    {
     "data": {
      "text/plain": [
       "21"
      ]
     },
     "execution_count": 72,
     "metadata": {},
     "output_type": "execute_result"
    }
   ],
   "source": [
    "# need to inverse the scaling to get meaningful predicted stock price # outputs\n",
    "predicted_stock_price = sc.inverse_transform(predicted_stock_price) \n",
    "predicted_stock_price.size"
   ]
  },
  {
   "cell_type": "markdown",
   "metadata": {},
   "source": [
    "### Result Visualization\n"
   ]
  },
  {
   "cell_type": "code",
   "execution_count": 78,
   "metadata": {},
   "outputs": [
    {
     "data": {
      "image/png": "[encoded data removed]",
      "text/plain": [
       "<Figure size 432x288 with 1 Axes>"
      ]
     },
     "metadata": {
      "needs_background": "light"
     },
     "output_type": "display_data"
    }
   ],
   "source": [
    "# Visualising the results\n",
    "\n",
    "plt.plot(real_stock_price, color = 'pink', label = 'Real Google Stock Price')\n",
    "\n",
    "plt.plot(predicted_stock_price, color = 'green', label = 'Predicted Google Stock Price')\n",
    "\n",
    "plt.title('Google Stock Price Prediction')\n",
    "plt.xlabel('Time')\n",
    "plt.ylabel('Google Stock Price')\n",
    "plt.legend()\n",
    "\n",
    "plt.show()"
   ]
  },
  {
   "cell_type": "markdown",
   "metadata": {},
   "source": [
    "The blue line shows the trend of the stock for the month of January 2017. \n",
    "\n",
    "Some observations:\n",
    "- The prediction lags behind the actual price curve because the model cannot react to fast non-linear changes. Spikes are examples of fast non-linear changes\n",
    "- Model reacts pretty well to smooth changes"
   ]
  },
  {
   "cell_type": "markdown",
   "metadata": {},
   "source": [
    "### Compute the RMSE\n",
    "\n",
    "If we need to compute the RMSE for our Stock Price Prediction problem, we use the real stock price and predicted stock price as shown.\n",
    "\n",
    "Then consider dividing this RMSE by the range of the Google Stock Price values of January 2017 to get a relative error, as opposed to an absolute error. \n"
   ]
  },
  {
   "cell_type": "code",
   "execution_count": 74,
   "metadata": {},
   "outputs": [],
   "source": [
    "#import the libraries\n",
    "import math\n",
    "from sklearn.metrics import mean_squared_error"
   ]
  },
  {
   "cell_type": "code",
   "execution_count": 75,
   "metadata": {},
   "outputs": [
    {
     "data": {
      "text/plain": [
       "4.86817123051945"
      ]
     },
     "execution_count": 75,
     "metadata": {},
     "output_type": "execute_result"
    }
   ],
   "source": [
    "rmse = math.sqrt( mean_squared_error( real_stock_price[0:21,:], predicted_stock_price))\n",
    "rmse"
   ]
  },
  {
   "cell_type": "markdown",
   "metadata": {},
   "source": [
    "## Improving the RNN"
   ]
  },
  {
   "cell_type": "markdown",
   "metadata": {},
   "source": [
    "The new data need to be placed in the same order/format  as in the case of the training/test sets.\n",
    "\n",
    "1. Getting more training data: we trained our model on the past 5 years of the  Google Stock Price but it would be even better to train it on the past 10 years.\n",
    "\n",
    "2. Increasing the number of time steps: the model remembered the stock price from the 60 previous financial days to predict the stock price of the next day. That’s because we chose a number of 60 time steps (3 months). You could try to increase the number of time steps, by choosing for example 120 time steps (6 months).\n",
    "\n",
    "3. Adding some other indicators: if you have the financial instinct that the stock price of some other companies might be correlated to the one of Google, you could add this other stock price as a new indicator in the training data.\n",
    "\n",
    "4. Adding more LSTM layers: we built a RNN with four LSTM layers but you could try with even more.\n",
    "\n",
    "5. Adding more neurons in the LSTM layers: we highlighted the fact that we needed a high number of neurons in the LSTM layers to respond better to the complexity of the problem and we chose to include 50 neurons in each of our 4 LSTM layers. You could try an architecture with even more neurons in each of the 4 (or more) LSTM layers."
   ]
  },
  {
   "cell_type": "markdown",
   "metadata": {},
   "source": [
    "### Fine tuning the RNN\n",
    "\n",
    "Parameter Tuning on the RNN model: we are dealing with a Regression problem because we predict a continuous outcome.\n",
    "\n",
    "**Tip**: replace: scoring = 'accuracy' by scoring = 'neg_mean_squared_error' in the GridSearchCV class parameters as we did in the ANN case."
   ]
  },
  {
   "cell_type": "code",
   "execution_count": null,
   "metadata": {},
   "outputs": [],
   "source": []
  }
 ],
 "metadata": {
  "kernelspec": {
   "display_name": "Python 3",
   "language": "python",
   "name": "python3"
  },
  "language_info": {
   "codemirror_mode": {
    "name": "ipython",
    "version": 3
   },
   "file_extension": ".py",
   "mimetype": "text/x-python",
   "name": "python",
   "nbconvert_exporter": "python",
   "pygments_lexer": "ipython3",
   "version": "3.8.5"
  }
 },
 "nbformat": 4,
 "nbformat_minor": 2
}
